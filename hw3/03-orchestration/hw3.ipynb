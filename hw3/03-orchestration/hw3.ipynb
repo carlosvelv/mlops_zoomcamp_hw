{
 "cells": [
  {
   "cell_type": "markdown",
   "metadata": {},
   "source": [
    "### Q1. Human-readable name\n",
    "You’d like to give the first task, read_data a nicely formatted name. How can you specify a task name?"
   ]
  },
  {
   "cell_type": "markdown",
   "metadata": {},
   "source": [
    "@task(retries=3, retry_delay_seconds=2, name=\"Read taxi data\")"
   ]
  },
  {
   "cell_type": "markdown",
   "metadata": {},
   "source": [
    "### Q2. Cron\n",
    "Using the flow in orchestrate.py, create a deployment. Schedule your deployment to run on the third day of every month at 9am UTC. What’s the cron schedule for that?"
   ]
  },
  {
   "cell_type": "markdown",
   "metadata": {},
   "source": [
    "0 9 3 * *"
   ]
  },
  {
   "cell_type": "markdown",
   "metadata": {},
   "source": [
    "### Q3. RMSE\n",
    "\n",
    "Download the January 2023 Green Taxi data and use it for your training data. Download the February 2023 Green Taxi data and use it for your validation data.\n",
    "\n",
    "What’s the final RMSE to five decimal places?"
   ]
  },
  {
   "cell_type": "markdown",
   "metadata": {},
   "source": [
    "validation-rmse:5.19931"
   ]
  },
  {
   "cell_type": "markdown",
   "metadata": {},
   "source": [
    "### Q4. RMSE (Markdown Artifact)\n",
    "\n",
    "What’s the RMSE in the artifact to two decimal places ?"
   ]
  },
  {
   "cell_type": "markdown",
   "metadata": {},
   "source": [
    "validation-rmse:5.37450"
   ]
  },
  {
   "cell_type": "markdown",
   "metadata": {},
   "source": [
    "### Q5. Emails"
   ]
  },
  {
   "cell_type": "markdown",
   "metadata": {},
   "source": [
    "What is the name of the pre-built prefect-email task function?\n",
    "\n",
    "\n",
    "email_send_message\n"
   ]
  },
  {
   "cell_type": "markdown",
   "metadata": {},
   "source": [
    "### Q6. Prefect Cloud\n",
    "\n",
    "What is the name of the second step in the Automation creation process?\n",
    "\n",
    "Actions\n"
   ]
  }
 ],
 "metadata": {
  "interpreter": {
   "hash": "a4c6c4695f991a1b6cb8682fc5c3ffbc0aad80b0712024cd321d93ce63f2f5ca"
  },
  "kernelspec": {
   "display_name": "Python 3.9.16 64-bit ('libce_env')",
   "language": "python",
   "name": "python3"
  },
  "language_info": {
   "name": "python",
   "version": "3.9.16"
  },
  "orig_nbformat": 4
 },
 "nbformat": 4,
 "nbformat_minor": 2
}
